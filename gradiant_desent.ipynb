{
 "cells": [
  {
   "cell_type": "code",
   "execution_count": 2,
   "metadata": {},
   "outputs": [],
   "source": [
    "import numpy as np\n",
    "import math\n",
    "import matplotlib\n",
    "import copy"
   ]
  },
  {
   "cell_type": "code",
   "execution_count": 3,
   "metadata": {},
   "outputs": [],
   "source": [
    "x_train = np.array([2.0, 4.0, 9.0, 12.0])\n",
    "y_train = np.array([200.0, 300.0, 400.0, 900.0])"
   ]
  },
  {
   "cell_type": "code",
   "execution_count": 4,
   "metadata": {},
   "outputs": [],
   "source": [
    "def compute_cost(x, y, w, b):\n",
    "    m = x.shape[0]\n",
    "    cost = 0\n",
    "    for i in range (m):\n",
    "        f_wb = w*x[i] + b\n",
    "        cost = cost + (f_wb - y)**2 \n",
    "        total_cost = (1/ 2*m) * cost \n",
    "    return total_cost"
   ]
  },
  {
   "cell_type": "code",
   "execution_count": 5,
   "metadata": {},
   "outputs": [],
   "source": [
    "def gradient(x, y, w, b):\n",
    "    dJ_dw = 0\n",
    "    dJ_db = 0\n",
    "    m = x.shape[0]\n",
    "    for i in range (m):\n",
    "      f_wb = w*x[i] + b\n",
    "      dJ_dw_temp = (f_wb * y[i]) * x[i]\n",
    "      dJ_db_temp = (f_wb * y[i])\n",
    "      dJ_dw += dJ_dw_temp\n",
    "      dJ_db += dJ_db_temp\n",
    "    dJ_dw = dJ_dw/m \n",
    "    dJ_db = dJ_db/m   \n",
    "    return dJ_dw, dJ_db"
   ]
  },
  {
   "cell_type": "code",
   "execution_count": 6,
   "metadata": {},
   "outputs": [],
   "source": [
    "def gradiant_desent(x, y, w_in, b_in, alpha, gradients, cost, iters):\n",
    "    w = copy.deepcopy(w_in)\n",
    "    J_history = []\n",
    "    p_history = []\n",
    "    w = w_in\n",
    "    b = b_in\n",
    "    for i in range (iters):\n",
    "       dJ_dw, dJ_db = gradients(x, y, w, b)\n",
    "       w = w - alpha * dJ_dw\n",
    "       b = b - alpha * dJ_db \n",
    "    \n",
    "       if i < 10000:\n",
    "          J_history.append(cost(x, y, w, b))\n",
    "          p_history.append([w,b])\n",
    "\n",
    "       if i% math.ceil(iters/10) == 0:\n",
    "         print(f\"Iteration {i:4}: Cost {J_history[-1]:0.2e}\",\n",
    "               f\"dj_dw: {dJ_dw: 0.3e}, dj_db: {dJ_db: 0.3e}\",\n",
    "               f\"w: {w: 0.3e}, b:{b: 0.5e}\")\n",
    " \n",
    "    return w, b, J_history, p_history\n"
   ]
  },
  {
   "cell_type": "code",
   "execution_count": 7,
   "metadata": {},
   "outputs": [
    {
     "ename": "TypeError",
     "evalue": "unsupported format string passed to numpy.ndarray.__format__",
     "output_type": "error",
     "traceback": [
      "\u001b[0;31m---------------------------------------------------------------------------\u001b[0m",
      "\u001b[0;31mTypeError\u001b[0m                                 Traceback (most recent call last)",
      "Cell \u001b[0;32mIn[7], line 8\u001b[0m\n\u001b[1;32m      6\u001b[0m tmp_alpha \u001b[39m=\u001b[39m \u001b[39m1.0e-2\u001b[39m\n\u001b[1;32m      7\u001b[0m \u001b[39m# run gradient descent\u001b[39;00m\n\u001b[0;32m----> 8\u001b[0m w_final, b_final, J_hist, p_hist \u001b[39m=\u001b[39m gradiant_desent(x_train ,y_train, w_init, b_init, tmp_alpha, \n\u001b[1;32m      9\u001b[0m                                                     gradient, compute_cost, iterations)\n\u001b[1;32m     10\u001b[0m \u001b[39mprint\u001b[39m(\u001b[39mf\u001b[39m\u001b[39m\"\u001b[39m\u001b[39m(w,b) found by gradient descent: (\u001b[39m\u001b[39m{\u001b[39;00mw_final\u001b[39m:\u001b[39;00m\u001b[39m8.4f\u001b[39m\u001b[39m}\u001b[39;00m\u001b[39m,\u001b[39m\u001b[39m{\u001b[39;00mb_final\u001b[39m:\u001b[39;00m\u001b[39m8.4f\u001b[39m\u001b[39m}\u001b[39;00m\u001b[39m)\u001b[39m\u001b[39m\"\u001b[39m)\n",
      "Cell \u001b[0;32mIn[6], line 17\u001b[0m, in \u001b[0;36mgradiant_desent\u001b[0;34m(x, y, w_in, b_in, alpha, gradients, cost, iters)\u001b[0m\n\u001b[1;32m     14\u001b[0m       p_history\u001b[39m.\u001b[39mappend([w,b])\n\u001b[1;32m     16\u001b[0m    \u001b[39mif\u001b[39;00m i\u001b[39m%\u001b[39m math\u001b[39m.\u001b[39mceil(iters\u001b[39m/\u001b[39m\u001b[39m10\u001b[39m) \u001b[39m==\u001b[39m \u001b[39m0\u001b[39m:\n\u001b[0;32m---> 17\u001b[0m      \u001b[39mprint\u001b[39m(\u001b[39mf\u001b[39m\u001b[39m\"\u001b[39m\u001b[39mIteration \u001b[39m\u001b[39m{\u001b[39;00mi\u001b[39m:\u001b[39;00m\u001b[39m4\u001b[39m\u001b[39m}\u001b[39;00m\u001b[39m: Cost \u001b[39m\u001b[39m{\u001b[39;00mJ_history[\u001b[39m-\u001b[39m\u001b[39m1\u001b[39m]\u001b[39m:\u001b[39;00m\u001b[39m0.2e\u001b[39m\u001b[39m}\u001b[39;00m\u001b[39m\"\u001b[39m,\n\u001b[1;32m     18\u001b[0m            \u001b[39mf\u001b[39m\u001b[39m\"\u001b[39m\u001b[39mdj_dw: \u001b[39m\u001b[39m{\u001b[39;00mdJ_dw\u001b[39m:\u001b[39;00m\u001b[39m 0.3e\u001b[39m\u001b[39m}\u001b[39;00m\u001b[39m, dj_db: \u001b[39m\u001b[39m{\u001b[39;00mdJ_db\u001b[39m:\u001b[39;00m\u001b[39m 0.3e\u001b[39m\u001b[39m}\u001b[39;00m\u001b[39m\"\u001b[39m,\n\u001b[1;32m     19\u001b[0m            \u001b[39mf\u001b[39m\u001b[39m\"\u001b[39m\u001b[39mw: \u001b[39m\u001b[39m{\u001b[39;00mw\u001b[39m:\u001b[39;00m\u001b[39m 0.3e\u001b[39m\u001b[39m}\u001b[39;00m\u001b[39m, b:\u001b[39m\u001b[39m{\u001b[39;00mb\u001b[39m:\u001b[39;00m\u001b[39m 0.5e\u001b[39m\u001b[39m}\u001b[39;00m\u001b[39m\"\u001b[39m)\n\u001b[1;32m     21\u001b[0m \u001b[39mreturn\u001b[39;00m w, b, J_history, p_history\n",
      "\u001b[0;31mTypeError\u001b[0m: unsupported format string passed to numpy.ndarray.__format__"
     ]
    }
   ],
   "source": [
    "# initialize parameters\n",
    "w_init = 0\n",
    "b_init = 0\n",
    "# some gradient descent settings\n",
    "iterations = 10000\n",
    "tmp_alpha = 1.0e-2\n",
    "# run gradient descent\n",
    "w_final, b_final, J_hist, p_hist = gradiant_desent(x_train ,y_train, w_init, b_init, tmp_alpha, \n",
    "                                                    gradient, compute_cost, iterations)\n",
    "print(f\"(w,b) found by gradient descent: ({w_final:8.4f},{b_final:8.4f})\")"
   ]
  },
  {
   "cell_type": "code",
   "execution_count": null,
   "metadata": {},
   "outputs": [],
   "source": []
  },
  {
   "cell_type": "code",
   "execution_count": null,
   "metadata": {},
   "outputs": [],
   "source": []
  }
 ],
 "metadata": {
  "kernelspec": {
   "display_name": "Python 3",
   "language": "python",
   "name": "python3"
  },
  "language_info": {
   "codemirror_mode": {
    "name": "ipython",
    "version": 3
   },
   "file_extension": ".py",
   "mimetype": "text/x-python",
   "name": "python",
   "nbconvert_exporter": "python",
   "pygments_lexer": "ipython3",
   "version": "3.11.3"
  },
  "orig_nbformat": 4
 },
 "nbformat": 4,
 "nbformat_minor": 2
}
