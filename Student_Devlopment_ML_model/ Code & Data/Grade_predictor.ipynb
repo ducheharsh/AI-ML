{
 "cells": [
  {
   "attachments": {},
   "cell_type": "markdown",
   "metadata": {},
   "source": [
    "## Grade Predictor ML model \n",
    "by Harsh Duche,Prem Borate, Atharv Dhoke"
   ]
  },
  {
   "cell_type": "code",
   "execution_count": 9,
   "metadata": {},
   "outputs": [
    {
     "name": "stdout",
     "output_type": "stream",
     "text": [
      "1/1 [==============================] - 0s 52ms/step\n",
      "Mean Squared Error (MSE): 30.83\n",
      "R-squared (R2) Score: 0.02\n",
      "Predicted Scores: [35.36905  42.769524 42.84036  32.92877  41.114014 38.87307  44.953335\n",
      " 43.291325 45.995464 43.861076 38.141384 40.149364 35.73848  38.921288\n",
      " 38.52769  47.02424  43.116295 36.00202  38.45695  35.602585]\n"
     ]
    }
   ],
   "source": [
    "import pandas as pd\n",
    "import numpy as np\n",
    "from sklearn.model_selection import train_test_split\n",
    "from sklearn.metrics import mean_squared_error, r2_score\n",
    "from tensorflow.keras.models import Sequential\n",
    "from tensorflow.keras.layers import Dense\n",
    "\n",
    "# Load the generated dataset from CSV\n",
    "df = pd.read_csv('random_student_data.csv')\n",
    "\n",
    "# Split the data into input features (X) and target variable (y)\n",
    "X = df.drop('final_grade', axis=1)\n",
    "y = df['final_grade']\n",
    "\n",
    "# Split the data into training and testing sets\n",
    "X_train, X_test, y_train, y_test = train_test_split(X, y, test_size=0.2, random_state=42)\n",
    "\n",
    "# Initialize the Deep Learning model\n",
    "model = Sequential()\n",
    "model.add(Dense(units=64, activation='relu', input_dim=3)) # Input layer with 3 input features\n",
    "model.add(Dense(units=32, activation='relu')) # Hidden layer with 32 units and ReLU activation\n",
    "model.add(Dense(units=1)) # Output layer with 1 unit for regression\n",
    "\n",
    "# Compile the model\n",
    "model.compile(optimizer='adam', loss='mean_squared_error')\n",
    "\n",
    "# Fit the model to the training data\n",
    "model.fit(X_train, y_train, epochs=100, batch_size=32, verbose=0)\n",
    "\n",
    "# Predict on the test data\n",
    "y_pred = model.predict(X_test)\n",
    "\n",
    "# Flatten the predicted values\n",
    "y_pred = np.squeeze(y_pred)\n",
    "\n",
    "# Evaluate the model\n",
    "mse = mean_squared_error(y_test, y_pred)\n",
    "r2 = r2_score(y_test, y_pred)\n",
    "\n",
    "# Print the evaluation metrics\n",
    "print(\"Mean Squared Error (MSE): {:.2f}\".format(mse))\n",
    "print(\"R-squared (R2) Score: {:.2f}\".format(r2))\n",
    "print(\"Predicted Scores: {}\".format(y_pred))"
   ]
  }
 ],
 "metadata": {
  "kernelspec": {
   "display_name": "Python 3",
   "language": "python",
   "name": "python3"
  },
  "language_info": {
   "codemirror_mode": {
    "name": "ipython",
    "version": 3
   },
   "file_extension": ".py",
   "mimetype": "text/x-python",
   "name": "python",
   "nbconvert_exporter": "python",
   "pygments_lexer": "ipython3",
   "version": "3.10.6"
  },
  "orig_nbformat": 4
 },
 "nbformat": 4,
 "nbformat_minor": 2
}
