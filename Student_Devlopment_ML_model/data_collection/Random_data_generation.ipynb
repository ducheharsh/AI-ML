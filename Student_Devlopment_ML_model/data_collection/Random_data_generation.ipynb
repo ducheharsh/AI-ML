{
 "cells": [
  {
   "cell_type": "code",
   "execution_count": 3,
   "id": "8444ba16",
   "metadata": {},
   "outputs": [],
   "source": [
    "import numpy as np\n",
    "import pandas as pd\n",
    "\n",
    "# Generate random data for the input features\n",
    "n_samples = 100  # number of samples\n",
    "midterm_grade = np.random.normal(75, 10, n_samples)  # normal distribution with mean 75 and standard deviation 10\n",
    "study_time = np.random.uniform(1, 10, n_samples)  # uniform distribution between 1 and 10\n",
    "previous_failures = np.random.randint(0, 5, n_samples)  # integer values between 0 and 5\n",
    "\n",
    "# Generate target variable based on the input features\n",
    "final_grade = 0.5 * midterm_grade + 0.3 * study_time - 0.1 * previous_failures + np.random.normal(0, 5, n_samples)  # linear relationship with some random noise\n",
    "\n",
    "# Create a pandas DataFrame to store the generated data\n",
    "df = pd.DataFrame({'midterm_grade': midterm_grade, 'study_time': study_time, 'previous_failures': previous_failures, 'final_grade': final_grade})\n",
    "\n",
    "# Save the generated data to a CSV file\n",
    "df.to_csv('random_student_data.csv', index=False)"
   ]
  },
  {
   "cell_type": "code",
   "execution_count": null,
   "id": "ed1a4d55",
   "metadata": {},
   "outputs": [],
   "source": []
  }
 ],
 "metadata": {
  "kernelspec": {
   "display_name": "Python 3 (ipykernel)",
   "language": "python",
   "name": "python3"
  },
  "language_info": {
   "codemirror_mode": {
    "name": "ipython",
    "version": 3
   },
   "file_extension": ".py",
   "mimetype": "text/x-python",
   "name": "python",
   "nbconvert_exporter": "python",
   "pygments_lexer": "ipython3",
   "version": "3.11.3"
  }
 },
 "nbformat": 4,
 "nbformat_minor": 5
}
